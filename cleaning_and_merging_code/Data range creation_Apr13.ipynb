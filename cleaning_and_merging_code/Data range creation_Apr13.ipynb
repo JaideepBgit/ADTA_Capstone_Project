{
 "cells": [
  {
   "cell_type": "code",
   "execution_count": 1,
   "id": "d1888a9b-00c1-4842-9641-91c83ac6faba",
   "metadata": {},
   "outputs": [],
   "source": [
    "import pandas as pd\n",
    "\n",
    "# Create the date range for the first day of each month from 1990 to 2021\n",
    "date_range = pd.date_range(start='1990-01-01', end='2022-12-01', freq='MS')\n",
    "\n",
    "# Convert the date range to the desired string format\n",
    "formatted_dates = date_range.strftime('%d/%m/%Y')\n",
    "\n",
    "# Create a DataFrame\n",
    "df = pd.DataFrame(formatted_dates, columns=['First of the Month'])\n",
    "\n",
    "# Specify the path where you want to save the Excel file\n",
    "file_path = 'justdateV2.xlsx'\n",
    "\n",
    "# Save to an Excel file at the specified path\n",
    "df.to_excel(file_path, index=False)\n"
   ]
  },
  {
   "cell_type": "code",
   "execution_count": null,
   "id": "e4ebddbb-9d9a-423c-930c-2bf52b785339",
   "metadata": {},
   "outputs": [],
   "source": []
  }
 ],
 "metadata": {
  "kernelspec": {
   "display_name": "Python 3 (ipykernel)",
   "language": "python",
   "name": "python3"
  },
  "language_info": {
   "codemirror_mode": {
    "name": "ipython",
    "version": 3
   },
   "file_extension": ".py",
   "mimetype": "text/x-python",
   "name": "python",
   "nbconvert_exporter": "python",
   "pygments_lexer": "ipython3",
   "version": "3.8.17"
  }
 },
 "nbformat": 4,
 "nbformat_minor": 5
}
